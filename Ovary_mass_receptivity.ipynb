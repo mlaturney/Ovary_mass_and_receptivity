{
 "cells": [
  {
   "cell_type": "code",
   "execution_count": 18,
   "id": "4487397c-d0d8-4711-bd65-68e9eb0bee7d",
   "metadata": {
    "tags": []
   },
   "outputs": [],
   "source": [
    "## import modules\n",
    "import numpy as np\n",
    "import pandas as pd\n",
    "import os\n",
    "import matplotlib.pyplot as plt\n",
    "import seaborn as sns\n",
    "import scipy.stats as stats\n",
    "import statsmodels.api as sm\n",
    "import statsmodels.formula.api as smf\n",
    "## Enable multiple outputs from jupyter cells\n",
    "from IPython.core.interactiveshell import InteractiveShell\n",
    "InteractiveShell.ast_node_interactivity = \"all\"\n",
    "## disable the Pandas \"setting a copy of a slice\" warning\n",
    "pd.options.mode.chained_assignment = None\n",
    "## set default number of DataFrame rows printed to 6\n",
    "pd.set_option('display.max_rows', 10)"
   ]
  },
  {
   "cell_type": "code",
   "execution_count": 19,
   "id": "f81a727c-a6c3-4567-ade9-c736d4a80c64",
   "metadata": {
    "tags": []
   },
   "outputs": [
    {
     "data": {
      "text/plain": [
       "'/Users/meghanlaturney/Documents/documents/postdoc/williams_lab/manuscript_fecundity/figure_1'"
      ]
     },
     "execution_count": 19,
     "metadata": {},
     "output_type": "execute_result"
    }
   ],
   "source": [
    "## set working directory\n",
    "os.getcwd()"
   ]
  },
  {
   "cell_type": "code",
   "execution_count": 20,
   "id": "0185595b-ce09-425a-8a25-91281bf8a6f3",
   "metadata": {},
   "outputs": [
    {
     "data": {
      "text/html": [
       "<div>\n",
       "<style scoped>\n",
       "    .dataframe tbody tr th:only-of-type {\n",
       "        vertical-align: middle;\n",
       "    }\n",
       "\n",
       "    .dataframe tbody tr th {\n",
       "        vertical-align: top;\n",
       "    }\n",
       "\n",
       "    .dataframe thead th {\n",
       "        text-align: right;\n",
       "    }\n",
       "</style>\n",
       "<table border=\"1\" class=\"dataframe\">\n",
       "  <thead>\n",
       "    <tr style=\"text-align: right;\">\n",
       "      <th></th>\n",
       "      <th>age</th>\n",
       "      <th>female_morph</th>\n",
       "      <th>number_call_bouts</th>\n",
       "      <th>cop</th>\n",
       "      <th>ovary_mass_mg</th>\n",
       "      <th>pronotum_width</th>\n",
       "      <th>court</th>\n",
       "    </tr>\n",
       "  </thead>\n",
       "  <tbody>\n",
       "    <tr>\n",
       "      <th>0</th>\n",
       "      <td>1</td>\n",
       "      <td>LW</td>\n",
       "      <td>0</td>\n",
       "      <td>0</td>\n",
       "      <td>61.0</td>\n",
       "      <td>1970.41</td>\n",
       "      <td>0</td>\n",
       "    </tr>\n",
       "    <tr>\n",
       "      <th>1</th>\n",
       "      <td>1</td>\n",
       "      <td>LW</td>\n",
       "      <td>0</td>\n",
       "      <td>0</td>\n",
       "      <td>28.5</td>\n",
       "      <td>1753.62</td>\n",
       "      <td>0</td>\n",
       "    </tr>\n",
       "    <tr>\n",
       "      <th>2</th>\n",
       "      <td>1</td>\n",
       "      <td>LW</td>\n",
       "      <td>0</td>\n",
       "      <td>0</td>\n",
       "      <td>16.3</td>\n",
       "      <td>1799.46</td>\n",
       "      <td>0</td>\n",
       "    </tr>\n",
       "    <tr>\n",
       "      <th>3</th>\n",
       "      <td>1</td>\n",
       "      <td>LW</td>\n",
       "      <td>8</td>\n",
       "      <td>0</td>\n",
       "      <td>5.9</td>\n",
       "      <td>2063.89</td>\n",
       "      <td>1</td>\n",
       "    </tr>\n",
       "    <tr>\n",
       "      <th>4</th>\n",
       "      <td>1</td>\n",
       "      <td>LW</td>\n",
       "      <td>0</td>\n",
       "      <td>0</td>\n",
       "      <td>4.7</td>\n",
       "      <td>1991.11</td>\n",
       "      <td>0</td>\n",
       "    </tr>\n",
       "  </tbody>\n",
       "</table>\n",
       "</div>"
      ],
      "text/plain": [
       "   age female_morph  number_call_bouts  cop  ovary_mass_mg  pronotum_width  \\\n",
       "0    1           LW                  0    0           61.0         1970.41   \n",
       "1    1           LW                  0    0           28.5         1753.62   \n",
       "2    1           LW                  0    0           16.3         1799.46   \n",
       "3    1           LW                  8    0            5.9         2063.89   \n",
       "4    1           LW                  0    0            4.7         1991.11   \n",
       "\n",
       "   court  \n",
       "0      0  \n",
       "1      0  \n",
       "2      0  \n",
       "3      1  \n",
       "4      0  "
      ]
     },
     "execution_count": 20,
     "metadata": {},
     "output_type": "execute_result"
    }
   ],
   "source": [
    "## import data\n",
    "df_alldata = pd.read_csv('all_data.csv')\n",
    "df_alldata['court'] = df_alldata['number_call_bouts'].apply(lambda x: 1 if x > 0 else 0)\n",
    "df_alldata.head()"
   ]
  },
  {
   "cell_type": "code",
   "execution_count": 21,
   "id": "c85b96a2-7cc7-4aa3-af72-9c5196fbc3f0",
   "metadata": {
    "tags": []
   },
   "outputs": [
    {
     "name": "stdout",
     "output_type": "stream",
     "text": [
      "age\n",
      "     count  proportion\n",
      "age                   \n",
      "5       43       0.215\n",
      "1       40       0.200\n",
      "9       40       0.200\n",
      "7       39       0.195\n",
      "3       38       0.190\n",
      "*****************************************\n",
      "female_morph\n",
      "              count  proportion\n",
      "female_morph                   \n",
      "SW              104        0.52\n",
      "LW               96        0.48\n",
      "*****************************************\n",
      "cop\n",
      "     count  proportion\n",
      "cop                   \n",
      "0      156        0.78\n",
      "1       44        0.22\n",
      "*****************************************\n",
      "court\n",
      "       count  proportion\n",
      "court                   \n",
      "1        122        0.61\n",
      "0         78        0.39\n",
      "*****************************************\n"
     ]
    }
   ],
   "source": [
    "# look at the categorical variables\n",
    "\n",
    "cat_vars = ['age','female_morph','cop','court']\n",
    "for i in cat_vars:\n",
    "    print(i)\n",
    "    out = pd.DataFrame({\n",
    "        'count':df_alldata[i].value_counts(),\n",
    "        'proportion':df_alldata[i].value_counts(normalize=True),\n",
    "    })\n",
    "    print(out)\n",
    "    print(\"*****************************************\")"
   ]
  },
  {
   "cell_type": "code",
   "execution_count": 22,
   "id": "a659e668-0c08-42c0-8504-32c94dc19131",
   "metadata": {
    "tags": []
   },
   "outputs": [
    {
     "name": "stdout",
     "output_type": "stream",
     "text": [
      "*** no. females/morph/day***\n"
     ]
    },
    {
     "data": {
      "text/html": [
       "<div>\n",
       "<style scoped>\n",
       "    .dataframe tbody tr th:only-of-type {\n",
       "        vertical-align: middle;\n",
       "    }\n",
       "\n",
       "    .dataframe tbody tr th {\n",
       "        vertical-align: top;\n",
       "    }\n",
       "\n",
       "    .dataframe thead th {\n",
       "        text-align: right;\n",
       "    }\n",
       "</style>\n",
       "<table border=\"1\" class=\"dataframe\">\n",
       "  <thead>\n",
       "    <tr style=\"text-align: right;\">\n",
       "      <th>age</th>\n",
       "      <th>1</th>\n",
       "      <th>3</th>\n",
       "      <th>5</th>\n",
       "      <th>7</th>\n",
       "      <th>9</th>\n",
       "    </tr>\n",
       "    <tr>\n",
       "      <th>female_morph</th>\n",
       "      <th></th>\n",
       "      <th></th>\n",
       "      <th></th>\n",
       "      <th></th>\n",
       "      <th></th>\n",
       "    </tr>\n",
       "  </thead>\n",
       "  <tbody>\n",
       "    <tr>\n",
       "      <th>LW</th>\n",
       "      <td>20</td>\n",
       "      <td>18</td>\n",
       "      <td>22</td>\n",
       "      <td>16</td>\n",
       "      <td>20</td>\n",
       "    </tr>\n",
       "    <tr>\n",
       "      <th>SW</th>\n",
       "      <td>20</td>\n",
       "      <td>20</td>\n",
       "      <td>21</td>\n",
       "      <td>23</td>\n",
       "      <td>20</td>\n",
       "    </tr>\n",
       "  </tbody>\n",
       "</table>\n",
       "</div>"
      ],
      "text/plain": [
       "age            1   3   5   7   9\n",
       "female_morph                    \n",
       "LW            20  18  22  16  20\n",
       "SW            20  20  21  23  20"
      ]
     },
     "execution_count": 22,
     "metadata": {},
     "output_type": "execute_result"
    },
    {
     "name": "stdout",
     "output_type": "stream",
     "text": [
      "*** no. females courted/morph/day***\n"
     ]
    },
    {
     "data": {
      "text/html": [
       "<div>\n",
       "<style scoped>\n",
       "    .dataframe tbody tr th:only-of-type {\n",
       "        vertical-align: middle;\n",
       "    }\n",
       "\n",
       "    .dataframe tbody tr th {\n",
       "        vertical-align: top;\n",
       "    }\n",
       "\n",
       "    .dataframe thead th {\n",
       "        text-align: right;\n",
       "    }\n",
       "</style>\n",
       "<table border=\"1\" class=\"dataframe\">\n",
       "  <thead>\n",
       "    <tr style=\"text-align: right;\">\n",
       "      <th>age</th>\n",
       "      <th>1</th>\n",
       "      <th>3</th>\n",
       "      <th>5</th>\n",
       "      <th>7</th>\n",
       "      <th>9</th>\n",
       "    </tr>\n",
       "    <tr>\n",
       "      <th>female_morph</th>\n",
       "      <th></th>\n",
       "      <th></th>\n",
       "      <th></th>\n",
       "      <th></th>\n",
       "      <th></th>\n",
       "    </tr>\n",
       "  </thead>\n",
       "  <tbody>\n",
       "    <tr>\n",
       "      <th>LW</th>\n",
       "      <td>10</td>\n",
       "      <td>9</td>\n",
       "      <td>13</td>\n",
       "      <td>14</td>\n",
       "      <td>13</td>\n",
       "    </tr>\n",
       "    <tr>\n",
       "      <th>SW</th>\n",
       "      <td>12</td>\n",
       "      <td>9</td>\n",
       "      <td>15</td>\n",
       "      <td>19</td>\n",
       "      <td>8</td>\n",
       "    </tr>\n",
       "  </tbody>\n",
       "</table>\n",
       "</div>"
      ],
      "text/plain": [
       "age            1  3   5   7   9\n",
       "female_morph                   \n",
       "LW            10  9  13  14  13\n",
       "SW            12  9  15  19   8"
      ]
     },
     "execution_count": 22,
     "metadata": {},
     "output_type": "execute_result"
    },
    {
     "name": "stdout",
     "output_type": "stream",
     "text": [
      "*** no. females copulated/morph/day***\n"
     ]
    },
    {
     "data": {
      "text/html": [
       "<div>\n",
       "<style scoped>\n",
       "    .dataframe tbody tr th:only-of-type {\n",
       "        vertical-align: middle;\n",
       "    }\n",
       "\n",
       "    .dataframe tbody tr th {\n",
       "        vertical-align: top;\n",
       "    }\n",
       "\n",
       "    .dataframe thead th {\n",
       "        text-align: right;\n",
       "    }\n",
       "</style>\n",
       "<table border=\"1\" class=\"dataframe\">\n",
       "  <thead>\n",
       "    <tr style=\"text-align: right;\">\n",
       "      <th>age</th>\n",
       "      <th>1</th>\n",
       "      <th>3</th>\n",
       "      <th>5</th>\n",
       "      <th>7</th>\n",
       "      <th>9</th>\n",
       "    </tr>\n",
       "    <tr>\n",
       "      <th>female_morph</th>\n",
       "      <th></th>\n",
       "      <th></th>\n",
       "      <th></th>\n",
       "      <th></th>\n",
       "      <th></th>\n",
       "    </tr>\n",
       "  </thead>\n",
       "  <tbody>\n",
       "    <tr>\n",
       "      <th>LW</th>\n",
       "      <td>0</td>\n",
       "      <td>2</td>\n",
       "      <td>4</td>\n",
       "      <td>5</td>\n",
       "      <td>10</td>\n",
       "    </tr>\n",
       "    <tr>\n",
       "      <th>SW</th>\n",
       "      <td>0</td>\n",
       "      <td>2</td>\n",
       "      <td>9</td>\n",
       "      <td>6</td>\n",
       "      <td>6</td>\n",
       "    </tr>\n",
       "  </tbody>\n",
       "</table>\n",
       "</div>"
      ],
      "text/plain": [
       "age           1  3  5  7   9\n",
       "female_morph                \n",
       "LW            0  2  4  5  10\n",
       "SW            0  2  9  6   6"
      ]
     },
     "execution_count": 22,
     "metadata": {},
     "output_type": "execute_result"
    }
   ],
   "source": [
    "# look at the reproductive behavior\n",
    "\n",
    "print(\"*** no. females/morph/day***\")\n",
    "pd.pivot_table(df_alldata, values='ovary_mass_mg', index='female_morph', columns='age',\n",
    "               aggfunc='count')\n",
    "print(\"*** no. females courted/morph/day***\")\n",
    "pd.pivot_table(df_alldata, values='court', index='female_morph', columns='age',\n",
    "               aggfunc='sum')\n",
    "print(\"*** no. females copulated/morph/day***\")\n",
    "pd.pivot_table(df_alldata, values='cop', index='female_morph', columns='age',\n",
    "               aggfunc='sum')"
   ]
  },
  {
   "cell_type": "code",
   "execution_count": 23,
   "id": "476e89ee-6855-43ab-8fa1-47ba7084869c",
   "metadata": {
    "tags": []
   },
   "outputs": [
    {
     "name": "stdout",
     "output_type": "stream",
     "text": [
      "*** ovary mass/morph/day***\n"
     ]
    },
    {
     "data": {
      "text/html": [
       "<div>\n",
       "<style scoped>\n",
       "    .dataframe tbody tr th:only-of-type {\n",
       "        vertical-align: middle;\n",
       "    }\n",
       "\n",
       "    .dataframe tbody tr th {\n",
       "        vertical-align: top;\n",
       "    }\n",
       "\n",
       "    .dataframe thead th {\n",
       "        text-align: right;\n",
       "    }\n",
       "</style>\n",
       "<table border=\"1\" class=\"dataframe\">\n",
       "  <thead>\n",
       "    <tr style=\"text-align: right;\">\n",
       "      <th>age</th>\n",
       "      <th>1</th>\n",
       "      <th>3</th>\n",
       "      <th>5</th>\n",
       "      <th>7</th>\n",
       "      <th>9</th>\n",
       "    </tr>\n",
       "    <tr>\n",
       "      <th>female_morph</th>\n",
       "      <th></th>\n",
       "      <th></th>\n",
       "      <th></th>\n",
       "      <th></th>\n",
       "      <th></th>\n",
       "    </tr>\n",
       "  </thead>\n",
       "  <tbody>\n",
       "    <tr>\n",
       "      <th>LW</th>\n",
       "      <td>17.765</td>\n",
       "      <td>55.544444</td>\n",
       "      <td>125.704545</td>\n",
       "      <td>144.237500</td>\n",
       "      <td>196.045</td>\n",
       "    </tr>\n",
       "    <tr>\n",
       "      <th>SW</th>\n",
       "      <td>20.365</td>\n",
       "      <td>58.475000</td>\n",
       "      <td>131.219048</td>\n",
       "      <td>154.921739</td>\n",
       "      <td>255.090</td>\n",
       "    </tr>\n",
       "  </tbody>\n",
       "</table>\n",
       "</div>"
      ],
      "text/plain": [
       "age                1          3           5           7        9\n",
       "female_morph                                                    \n",
       "LW            17.765  55.544444  125.704545  144.237500  196.045\n",
       "SW            20.365  58.475000  131.219048  154.921739  255.090"
      ]
     },
     "execution_count": 23,
     "metadata": {},
     "output_type": "execute_result"
    },
    {
     "name": "stdout",
     "output_type": "stream",
     "text": [
      "*** pronotum width/morph/day***\n"
     ]
    },
    {
     "data": {
      "text/html": [
       "<div>\n",
       "<style scoped>\n",
       "    .dataframe tbody tr th:only-of-type {\n",
       "        vertical-align: middle;\n",
       "    }\n",
       "\n",
       "    .dataframe tbody tr th {\n",
       "        vertical-align: top;\n",
       "    }\n",
       "\n",
       "    .dataframe thead th {\n",
       "        text-align: right;\n",
       "    }\n",
       "</style>\n",
       "<table border=\"1\" class=\"dataframe\">\n",
       "  <thead>\n",
       "    <tr style=\"text-align: right;\">\n",
       "      <th>age</th>\n",
       "      <th>1</th>\n",
       "      <th>3</th>\n",
       "      <th>5</th>\n",
       "      <th>7</th>\n",
       "      <th>9</th>\n",
       "    </tr>\n",
       "    <tr>\n",
       "      <th>female_morph</th>\n",
       "      <th></th>\n",
       "      <th></th>\n",
       "      <th></th>\n",
       "      <th></th>\n",
       "      <th></th>\n",
       "    </tr>\n",
       "  </thead>\n",
       "  <tbody>\n",
       "    <tr>\n",
       "      <th>LW</th>\n",
       "      <td>1881.8520</td>\n",
       "      <td>1850.889444</td>\n",
       "      <td>1847.890000</td>\n",
       "      <td>1784.276875</td>\n",
       "      <td>1838.1030</td>\n",
       "    </tr>\n",
       "    <tr>\n",
       "      <th>SW</th>\n",
       "      <td>1899.1745</td>\n",
       "      <td>1869.688500</td>\n",
       "      <td>1819.042857</td>\n",
       "      <td>1775.100870</td>\n",
       "      <td>1849.1795</td>\n",
       "    </tr>\n",
       "  </tbody>\n",
       "</table>\n",
       "</div>"
      ],
      "text/plain": [
       "age                   1            3            5            7          9\n",
       "female_morph                                                             \n",
       "LW            1881.8520  1850.889444  1847.890000  1784.276875  1838.1030\n",
       "SW            1899.1745  1869.688500  1819.042857  1775.100870  1849.1795"
      ]
     },
     "execution_count": 23,
     "metadata": {},
     "output_type": "execute_result"
    }
   ],
   "source": [
    "# Look at continuous variables\n",
    "\n",
    "print(\"*** ovary mass/morph/day***\")\n",
    "pd.pivot_table(df_alldata, values='ovary_mass_mg', index='female_morph', columns='age',\n",
    "               aggfunc='mean')\n",
    "print(\"*** pronotum width/morph/day***\")\n",
    "pd.pivot_table(df_alldata, values='pronotum_width', index='female_morph', columns='age',\n",
    "               aggfunc='mean')"
   ]
  },
  {
   "cell_type": "code",
   "execution_count": 24,
   "id": "9e83d63b-3de7-471a-be36-14b89917dbf8",
   "metadata": {
    "tags": []
   },
   "outputs": [
    {
     "data": {
      "text/plain": [
       "age\n",
       "1     19.065000\n",
       "3     57.086842\n",
       "5    128.397674\n",
       "7    150.538462\n",
       "9    225.567500\n",
       "Name: ovary_mass_mg, dtype: float64"
      ]
     },
     "execution_count": 24,
     "metadata": {},
     "output_type": "execute_result"
    }
   ],
   "source": [
    "average_mass_per_day = df_alldata.groupby('age')['ovary_mass_mg'].mean()\n",
    "average_mass_per_day"
   ]
  },
  {
   "cell_type": "code",
   "execution_count": 25,
   "id": "8c633feb-a5de-4454-a713-a25b4a6215a6",
   "metadata": {
    "tags": []
   },
   "outputs": [
    {
     "data": {
      "text/plain": [
       "<Axes: xlabel='age', ylabel='ovary_mass_mg'>"
      ]
     },
     "execution_count": 25,
     "metadata": {},
     "output_type": "execute_result"
    },
    {
     "name": "stderr",
     "output_type": "stream",
     "text": [
      "/Users/meghanlaturney/anaconda3/lib/python3.11/site-packages/seaborn/_oldcore.py:1119: FutureWarning: use_inf_as_na option is deprecated and will be removed in a future version. Convert inf values to NaN before operating instead.\n",
      "  with pd.option_context('mode.use_inf_as_na', True):\n",
      "/Users/meghanlaturney/anaconda3/lib/python3.11/site-packages/seaborn/_oldcore.py:1119: FutureWarning: use_inf_as_na option is deprecated and will be removed in a future version. Convert inf values to NaN before operating instead.\n",
      "  with pd.option_context('mode.use_inf_as_na', True):\n"
     ]
    },
    {
     "data": {
      "text/plain": [
       "<Axes: xlabel='age', ylabel='ovary_mass_mg'>"
      ]
     },
     "execution_count": 25,
     "metadata": {},
     "output_type": "execute_result"
    },
    {
     "data": {
      "text/plain": [
       "Text(0.5, 0, 'Age (days)')"
      ]
     },
     "execution_count": 25,
     "metadata": {},
     "output_type": "execute_result"
    },
    {
     "data": {
      "text/plain": [
       "Text(0, 0.5, 'Ovary mass (mg)')"
      ]
     },
     "execution_count": 25,
     "metadata": {},
     "output_type": "execute_result"
    },
    {
     "data": {
      "image/png": "[encoded data removed]",
      "text/plain": [
       "<Figure size 640x480 with 1 Axes>"
      ]
     },
     "metadata": {},
     "output_type": "display_data"
    }
   ],
   "source": [
    "# Ovary mass across age and morph\n",
    "\n",
    "sns.set_style(\"white\")\n",
    "sns.boxplot(df_alldata, x=\"age\", y=\"ovary_mass_mg\", hue=\"female_morph\",whis=(0, 100),showcaps=False,\n",
    "    palette='husl', linewidth = 0.7, showfliers=False)\n",
    "sns.stripplot(\n",
    "    data=df_alldata, x=\"age\", y=\"ovary_mass_mg\", hue=\"female_morph\",\n",
    "            palette='husl', edgecolor = \"black\", linewidth = 0.25, jitter = True, size = 5, alpha = 0.75,\n",
    "    dodge=True, legend=False)\n",
    "\n",
    "# add descriptive texts\n",
    "sns.despine()\n",
    "plt.xlabel('Age (days)')\n",
    "plt.ylabel('Ovary mass (mg)')\n",
    "plt.savefig('figure1a.png', dpi=300)"
   ]
  },
  {
   "cell_type": "code",
   "execution_count": 26,
   "id": "7a90cd7c-4dbc-4577-b8a6-6745bbed8093",
   "metadata": {
    "tags": []
   },
   "outputs": [
    {
     "data": {
      "text/html": [
       "<div>\n",
       "<style scoped>\n",
       "    .dataframe tbody tr th:only-of-type {\n",
       "        vertical-align: middle;\n",
       "    }\n",
       "\n",
       "    .dataframe tbody tr th {\n",
       "        vertical-align: top;\n",
       "    }\n",
       "\n",
       "    .dataframe thead th {\n",
       "        text-align: right;\n",
       "    }\n",
       "</style>\n",
       "<table border=\"1\" class=\"dataframe\">\n",
       "  <thead>\n",
       "    <tr style=\"text-align: right;\">\n",
       "      <th></th>\n",
       "      <th>age</th>\n",
       "      <th>female_morph</th>\n",
       "      <th>number_call_bouts</th>\n",
       "      <th>cop</th>\n",
       "      <th>ovary_mass_mg</th>\n",
       "      <th>pronotum_width</th>\n",
       "      <th>court</th>\n",
       "    </tr>\n",
       "  </thead>\n",
       "  <tbody>\n",
       "    <tr>\n",
       "      <th>0</th>\n",
       "      <td>3</td>\n",
       "      <td>LW</td>\n",
       "      <td>1</td>\n",
       "      <td>0</td>\n",
       "      <td>45.2</td>\n",
       "      <td>1864.75</td>\n",
       "      <td>1</td>\n",
       "    </tr>\n",
       "    <tr>\n",
       "      <th>1</th>\n",
       "      <td>3</td>\n",
       "      <td>LW</td>\n",
       "      <td>0</td>\n",
       "      <td>0</td>\n",
       "      <td>11.5</td>\n",
       "      <td>1597.53</td>\n",
       "      <td>0</td>\n",
       "    </tr>\n",
       "    <tr>\n",
       "      <th>2</th>\n",
       "      <td>3</td>\n",
       "      <td>LW</td>\n",
       "      <td>0</td>\n",
       "      <td>0</td>\n",
       "      <td>48.3</td>\n",
       "      <td>1684.94</td>\n",
       "      <td>0</td>\n",
       "    </tr>\n",
       "    <tr>\n",
       "      <th>3</th>\n",
       "      <td>3</td>\n",
       "      <td>SW</td>\n",
       "      <td>0</td>\n",
       "      <td>0</td>\n",
       "      <td>153.5</td>\n",
       "      <td>1792.63</td>\n",
       "      <td>0</td>\n",
       "    </tr>\n",
       "    <tr>\n",
       "      <th>4</th>\n",
       "      <td>3</td>\n",
       "      <td>SW</td>\n",
       "      <td>8</td>\n",
       "      <td>0</td>\n",
       "      <td>3.6</td>\n",
       "      <td>2049.15</td>\n",
       "      <td>1</td>\n",
       "    </tr>\n",
       "    <tr>\n",
       "      <th>...</th>\n",
       "      <td>...</td>\n",
       "      <td>...</td>\n",
       "      <td>...</td>\n",
       "      <td>...</td>\n",
       "      <td>...</td>\n",
       "      <td>...</td>\n",
       "      <td>...</td>\n",
       "    </tr>\n",
       "    <tr>\n",
       "      <th>155</th>\n",
       "      <td>9</td>\n",
       "      <td>SW</td>\n",
       "      <td>1</td>\n",
       "      <td>0</td>\n",
       "      <td>245.4</td>\n",
       "      <td>1855.52</td>\n",
       "      <td>1</td>\n",
       "    </tr>\n",
       "    <tr>\n",
       "      <th>156</th>\n",
       "      <td>9</td>\n",
       "      <td>SW</td>\n",
       "      <td>0</td>\n",
       "      <td>0</td>\n",
       "      <td>261.9</td>\n",
       "      <td>1707.73</td>\n",
       "      <td>0</td>\n",
       "    </tr>\n",
       "    <tr>\n",
       "      <th>157</th>\n",
       "      <td>9</td>\n",
       "      <td>SW</td>\n",
       "      <td>1</td>\n",
       "      <td>1</td>\n",
       "      <td>233.8</td>\n",
       "      <td>1836.66</td>\n",
       "      <td>1</td>\n",
       "    </tr>\n",
       "    <tr>\n",
       "      <th>158</th>\n",
       "      <td>9</td>\n",
       "      <td>SW</td>\n",
       "      <td>0</td>\n",
       "      <td>1</td>\n",
       "      <td>257.7</td>\n",
       "      <td>1957.20</td>\n",
       "      <td>0</td>\n",
       "    </tr>\n",
       "    <tr>\n",
       "      <th>159</th>\n",
       "      <td>9</td>\n",
       "      <td>SW</td>\n",
       "      <td>0</td>\n",
       "      <td>1</td>\n",
       "      <td>306.6</td>\n",
       "      <td>1929.36</td>\n",
       "      <td>0</td>\n",
       "    </tr>\n",
       "  </tbody>\n",
       "</table>\n",
       "<p>160 rows × 7 columns</p>\n",
       "</div>"
      ],
      "text/plain": [
       "     age female_morph  number_call_bouts  cop  ovary_mass_mg  pronotum_width  \\\n",
       "0      3           LW                  1    0           45.2         1864.75   \n",
       "1      3           LW                  0    0           11.5         1597.53   \n",
       "2      3           LW                  0    0           48.3         1684.94   \n",
       "3      3           SW                  0    0          153.5         1792.63   \n",
       "4      3           SW                  8    0            3.6         2049.15   \n",
       "..   ...          ...                ...  ...            ...             ...   \n",
       "155    9           SW                  1    0          245.4         1855.52   \n",
       "156    9           SW                  0    0          261.9         1707.73   \n",
       "157    9           SW                  1    1          233.8         1836.66   \n",
       "158    9           SW                  0    1          257.7         1957.20   \n",
       "159    9           SW                  0    1          306.6         1929.36   \n",
       "\n",
       "     court  \n",
       "0        1  \n",
       "1        0  \n",
       "2        0  \n",
       "3        0  \n",
       "4        1  \n",
       "..     ...  \n",
       "155      1  \n",
       "156      0  \n",
       "157      1  \n",
       "158      0  \n",
       "159      0  \n",
       "\n",
       "[160 rows x 7 columns]"
      ]
     },
     "execution_count": 26,
     "metadata": {},
     "output_type": "execute_result"
    }
   ],
   "source": [
    "## make a dataframe that includes days 3-9 for analysis\n",
    "\n",
    "df_3_9 = (df_alldata.loc[df_alldata['age'] > 1, ]).reset_index(drop=True)\n",
    "df_3_9"
   ]
  },
  {
   "cell_type": "code",
   "execution_count": 27,
   "id": "39c30607-9252-4b5b-8f0e-dc41d8a5018f",
   "metadata": {
    "tags": []
   },
   "outputs": [
    {
     "name": "stdout",
     "output_type": "stream",
     "text": [
      "Shapiro-Wilk Statistic: 0.9745199084281921\n",
      "P-value: 0.004686178173869848\n",
      "Ovary masses do not look Gaussian (reject H0)\n"
     ]
    },
    {
     "data": {
      "text/plain": [
       "<Figure size 800x500 with 0 Axes>"
      ]
     },
     "execution_count": 27,
     "metadata": {},
     "output_type": "execute_result"
    },
    {
     "data": {
      "text/plain": [
       "(array([12., 12.,  6.,  9.,  5., 11., 13.,  4.,  3.,  1.]),\n",
       " array([  8.9 ,  39.95,  71.  , 102.05, 133.1 , 164.15, 195.2 , 226.25,\n",
       "        257.3 , 288.35, 319.4 ]),\n",
       " <BarContainer object of 10 artists>)"
      ]
     },
     "execution_count": 27,
     "metadata": {},
     "output_type": "execute_result"
    },
    {
     "data": {
      "text/plain": [
       "(array([12.,  6., 13., 17.,  9.,  8.,  9.,  7.,  2.,  1.]),\n",
       " array([  3.2,  41. ,  78.8, 116.6, 154.4, 192.2, 230. , 267.8, 305.6,\n",
       "        343.4, 381.2]),\n",
       " <BarContainer object of 10 artists>)"
      ]
     },
     "execution_count": 27,
     "metadata": {},
     "output_type": "execute_result"
    },
    {
     "data": {
      "text/plain": [
       "Text(0.5, 0, 'Value')"
      ]
     },
     "execution_count": 27,
     "metadata": {},
     "output_type": "execute_result"
    },
    {
     "data": {
      "text/plain": [
       "Text(0, 0.5, 'Frequency')"
      ]
     },
     "execution_count": 27,
     "metadata": {},
     "output_type": "execute_result"
    },
    {
     "data": {
      "text/plain": [
       "<matplotlib.legend.Legend at 0x148e29cd0>"
      ]
     },
     "execution_count": 27,
     "metadata": {},
     "output_type": "execute_result"
    },
    {
     "data": {
      "image/png": "[encoded data removed]",
      "text/plain": [
       "<Figure size 800x500 with 1 Axes>"
      ]
     },
     "metadata": {},
     "output_type": "display_data"
    }
   ],
   "source": [
    "# Check if normally distributed\n",
    "\n",
    "from scipy.stats import shapiro\n",
    "stat, p = shapiro(df_3_9['ovary_mass_mg'])\n",
    "# Print the results\n",
    "print('Shapiro-Wilk Statistic:', stat)\n",
    "print('P-value:', p)\n",
    "# Interpret the results\n",
    "alpha = 0.05\n",
    "if p > alpha:\n",
    "    print('Ovary masses look Gaussian (fail to reject H0)')\n",
    "else:\n",
    "    print('Ovary masses do not look Gaussian (reject H0)')\n",
    "    \n",
    "# Histograms (Normality)\n",
    "plt.figure(figsize=(8, 5))\n",
    "for group in df_3_9['female_morph'].unique():\n",
    "    plt.hist(df_3_9[df_3_9['female_morph'] == group]['ovary_mass_mg'], alpha=0.5,label=group)\n",
    "plt.xlabel('Value')\n",
    "plt.ylabel('Frequency')\n",
    "plt.legend()\n",
    "sns.despine()\n",
    "#plt.savefig('figure1_assumptions_histogram.png')"
   ]
  },
  {
   "cell_type": "code",
   "execution_count": 28,
   "id": "dbdf3232-8960-4080-81e2-1c9bd15d7cce",
   "metadata": {
    "tags": []
   },
   "outputs": [
    {
     "name": "stdout",
     "output_type": "stream",
     "text": [
      "                 Generalized Linear Model Regression Results                  \n",
      "==============================================================================\n",
      "Dep. Variable:          ovary_mass_mg   No. Observations:                  160\n",
      "Model:                            GLM   Df Residuals:                      156\n",
      "Model Family:                Gaussian   Df Model:                            3\n",
      "Link Function:               Identity   Scale:                          3703.5\n",
      "Method:                          IRLS   Log-Likelihood:                -882.37\n",
      "Date:                Wed, 16 Apr 2025   Deviance:                   5.7774e+05\n",
      "Time:                        14:00:29   Pearson chi2:                 5.78e+05\n",
      "No. Iterations:                     3   Pseudo R-squ. (CS):             0.6179\n",
      "Covariance Type:            nonrobust                                         \n",
      "=============================================================================================\n",
      "                                coef    std err          z      P>|z|      [0.025      0.975]\n",
      "---------------------------------------------------------------------------------------------\n",
      "Intercept                     0.3589     19.990      0.018      0.986     -38.820      39.538\n",
      "C(female_morph)[T.SW]       -33.9672     27.863     -1.219      0.223     -88.578      20.643\n",
      "age                          21.8568      3.122      7.001      0.000      15.738      27.976\n",
      "C(female_morph)[T.SW]:age     8.6040      4.349      1.978      0.048       0.080      17.128\n",
      "=============================================================================================\n",
      "1772.7341536012896\n"
     ]
    }
   ],
   "source": [
    "# Data is not normally distrubuted, use a GLM to model ovary mass\n",
    "\n",
    "from statsmodels.formula.api import glm\n",
    "\n",
    "model_ovary_mass = glm(formula='ovary_mass_mg ~ C(female_morph)*age', data=df_3_9).fit()\n",
    "print(model_ovary_mass.summary())\n",
    "print(model_ovary_mass.aic)\n",
    "fitted_values = model_ovary_mass.fittedvalues\n",
    "residuals = model_ovary_mass.resid_deviance"
   ]
  },
  {
   "cell_type": "code",
   "execution_count": 29,
   "id": "8fc3ad16-3259-4606-9c18-7a6b4861ba3e",
   "metadata": {
    "tags": []
   },
   "outputs": [
    {
     "data": {
      "text/plain": [
       "<Axes: >"
      ]
     },
     "execution_count": 29,
     "metadata": {},
     "output_type": "execute_result"
    },
    {
     "data": {
      "text/plain": [
       "Text(0.5, 0, 'Fitted Values')"
      ]
     },
     "execution_count": 29,
     "metadata": {},
     "output_type": "execute_result"
    },
    {
     "data": {
      "text/plain": [
       "Text(0, 0.5, 'Residuals')"
      ]
     },
     "execution_count": 29,
     "metadata": {},
     "output_type": "execute_result"
    },
    {
     "data": {
      "text/plain": [
       "Text(0.5, 1.0, 'Residuals vs. Fitted Values')"
      ]
     },
     "execution_count": 29,
     "metadata": {},
     "output_type": "execute_result"
    },
    {
     "data": {
      "image/png": "[encoded data removed]",
      "text/plain": [
       "<Figure size 640x480 with 1 Axes>"
      ]
     },
     "metadata": {},
     "output_type": "display_data"
    }
   ],
   "source": [
    "sns.scatterplot(x=fitted_values, y=residuals)\n",
    "sns.despine()\n",
    "plt.xlabel(\"Fitted Values\")\n",
    "plt.ylabel(\"Residuals\")\n",
    "plt.title(\"Residuals vs. Fitted Values\")\n",
    "plt.savefig('suppfigure1a.png', dpi=300)"
   ]
  },
  {
   "cell_type": "code",
   "execution_count": 30,
   "id": "6704240b-e4b0-41c0-9ec8-19c6d6645285",
   "metadata": {
    "tags": []
   },
   "outputs": [
    {
     "data": {
      "image/png": "[encoded data removed]",
      "text/plain": [
       "<Figure size 640x480 with 1 Axes>"
      ]
     },
     "execution_count": 30,
     "metadata": {},
     "output_type": "execute_result"
    },
    {
     "data": {
      "text/plain": [
       "Text(0.5, 1.0, 'Q-Q Plot of Deviance Residuals')"
      ]
     },
     "execution_count": 30,
     "metadata": {},
     "output_type": "execute_result"
    },
    {
     "data": {
      "image/png": "[encoded data removed]",
      "text/plain": [
       "<Figure size 640x480 with 1 Axes>"
      ]
     },
     "metadata": {},
     "output_type": "display_data"
    }
   ],
   "source": [
    "# Create the Q-Q plot\n",
    "sm.qqplot(residuals, line='r') # 'r' specifies a regression line for comparison\n",
    "plt.title('Q-Q Plot of Deviance Residuals')\n",
    "sns.despine()\n",
    "plt.savefig('suppfigure1b.png', dpi=300)"
   ]
  },
  {
   "cell_type": "code",
   "execution_count": 31,
   "id": "948dfd3a-12b6-4fe7-8b34-c2430fbd5673",
   "metadata": {
    "tags": []
   },
   "outputs": [
    {
     "name": "stdout",
     "output_type": "stream",
     "text": [
      "                 Generalized Linear Model Regression Results                  \n",
      "==============================================================================\n",
      "Dep. Variable:          ovary_mass_mg   No. Observations:                  160\n",
      "Model:                            GLM   Df Residuals:                      158\n",
      "Model Family:                Gaussian   Df Model:                            1\n",
      "Link Function:               Identity   Scale:                          3828.0\n",
      "Method:                          IRLS   Log-Likelihood:                -886.03\n",
      "Date:                Wed, 16 Apr 2025   Deviance:                   6.0482e+05\n",
      "Time:                        14:00:30   Pearson chi2:                 6.05e+05\n",
      "No. Iterations:                     3   Pseudo R-squ. (CS):             0.5878\n",
      "Covariance Type:            nonrobust                                         \n",
      "==============================================================================\n",
      "                 coef    std err          z      P>|z|      [0.025      0.975]\n",
      "------------------------------------------------------------------------------\n",
      "Intercept    -17.0491     14.158     -1.204      0.228     -44.797      10.699\n",
      "age           26.3118      2.210     11.907      0.000      21.981      30.643\n",
      "==============================================================================\n",
      "1776.061811480683\n",
      "                 Generalized Linear Model Regression Results                  \n",
      "==============================================================================\n",
      "Dep. Variable:          ovary_mass_mg   No. Observations:                  160\n",
      "Model:                            GLM   Df Residuals:                      155\n",
      "Model Family:                Gaussian   Df Model:                            4\n",
      "Link Function:               Identity   Scale:                          3664.4\n",
      "Method:                          IRLS   Log-Likelihood:                -881.00\n",
      "Date:                Wed, 16 Apr 2025   Deviance:                   5.6799e+05\n",
      "Time:                        14:00:30   Pearson chi2:                 5.68e+05\n",
      "No. Iterations:                     3   Pseudo R-squ. (CS):             0.6281\n",
      "Covariance Type:            nonrobust                                         \n",
      "=============================================================================================\n",
      "                                coef    std err          z      P>|z|      [0.025      0.975]\n",
      "---------------------------------------------------------------------------------------------\n",
      "Intercept                   -92.6102     60.351     -1.535      0.125    -210.896      25.675\n",
      "C(female_morph)[T.SW]       -33.9346     27.716     -1.224      0.221     -88.257      20.387\n",
      "age                          22.0892      3.109      7.106      0.000      15.996      28.182\n",
      "C(female_morph)[T.SW]:age     8.6507      4.326      2.000      0.046       0.172      17.130\n",
      "pronotum_width                0.0500      0.031      1.632      0.103      -0.010       0.110\n",
      "=============================================================================================\n",
      "1772.0095638636353\n",
      "                 Generalized Linear Model Regression Results                  \n",
      "==============================================================================\n",
      "Dep. Variable:          ovary_mass_mg   No. Observations:                  160\n",
      "Model:                            GLM   Df Residuals:                      156\n",
      "Model Family:                Gaussian   Df Model:                            3\n",
      "Link Function:               Identity   Scale:                          3818.1\n",
      "Method:                          IRLS   Log-Likelihood:                -884.80\n",
      "Date:                Wed, 16 Apr 2025   Deviance:                   5.9562e+05\n",
      "Time:                        14:00:30   Pearson chi2:                 5.96e+05\n",
      "No. Iterations:                     3   Pseudo R-squ. (CS):             0.5950\n",
      "Covariance Type:            nonrobust                                         \n",
      "======================================================================================\n",
      "                         coef    std err          z      P>|z|      [0.025      0.975]\n",
      "--------------------------------------------------------------------------------------\n",
      "Intercept            -92.8400    152.552     -0.609      0.543    -391.837     206.157\n",
      "age                   23.8998     26.282      0.909      0.363     -27.611      75.411\n",
      "pronotum_width         0.0407      0.082      0.496      0.620      -0.120       0.201\n",
      "age:pronotum_width     0.0014      0.014      0.102      0.919      -0.026       0.029\n",
      "======================================================================================\n",
      "1777.6096760816388\n",
      "                 Generalized Linear Model Regression Results                  \n",
      "==============================================================================\n",
      "Dep. Variable:          ovary_mass_mg   No. Observations:                  160\n",
      "Model:                            GLM   Df Residuals:                      155\n",
      "Model Family:         InverseGaussian   Df Model:                            4\n",
      "Link Function:         InverseSquared   Scale:                       0.0030051\n",
      "Method:                          IRLS   Log-Likelihood:                -1161.8\n",
      "Date:                Wed, 16 Apr 2025   Deviance:                       2.2276\n",
      "Time:                        14:00:30   Pearson chi2:                    0.466\n",
      "No. Iterations:                     8   Pseudo R-squ. (CS):             0.3502\n",
      "Covariance Type:            nonrobust                                         \n",
      "=========================================================================================\n",
      "                            coef    std err          z      P>|z|      [0.025      0.975]\n",
      "-----------------------------------------------------------------------------------------\n",
      "Intercept                 0.0004      0.000      1.705      0.088   -6.65e-05       0.001\n",
      "C(female_morph)[T.SW] -8.706e-06   8.26e-06     -1.054      0.292   -2.49e-05    7.48e-06\n",
      "age                    -4.79e-05    3.2e-05     -1.499      0.134      -0.000    1.47e-05\n",
      "pronotum_width        -1.291e-07    1.4e-07     -0.925      0.355   -4.03e-07    1.44e-07\n",
      "age:pronotum_width     1.478e-08   1.71e-08      0.864      0.388   -1.87e-08    4.83e-08\n",
      "=========================================================================================\n",
      "2333.5473305176943\n"
     ]
    }
   ],
   "source": [
    "# Try other models and families (gamma or inverse gaussian) to model ovary mass\n",
    "\n",
    "from statsmodels.formula.api import glm\n",
    "\n",
    "model_glm_1 = glm(formula='ovary_mass_mg ~ age', data=df_3_9).fit()\n",
    "print(model_glm_1.summary())\n",
    "print(model_glm_1.aic)\n",
    "\n",
    "model_glm_2 = glm(formula='ovary_mass_mg ~ C(female_morph)*age + pronotum_width', data=df_3_9).fit()\n",
    "print(model_glm_2.summary())\n",
    "print(model_glm_2.aic)\n",
    "\n",
    "model_glm_3 = glm(formula='ovary_mass_mg ~ age*pronotum_width', data=df_3_9).fit()\n",
    "print(model_glm_3.summary())\n",
    "print(model_glm_3.aic)\n",
    "\n",
    "model_glm_4 = glm(formula='ovary_mass_mg ~ age*pronotum_width+C(female_morph)', data=df_3_9, family=sm.families.InverseGaussian(link=sm.families.links.InverseSquared())).fit()\n",
    "print(model_glm_4.summary())\n",
    "print(model_glm_4.aic)\n",
    "\n",
    "#family=sm.families.Gamma(link=sm.families.links.log())\n",
    "#family=sm.families.Gamma(link=sm.families.links.log())\n",
    "\n",
    "## Table 1"
   ]
  },
  {
   "cell_type": "code",
   "execution_count": 32,
   "id": "e0e3b387-1d50-4d34-b8ce-81f5ecc12cba",
   "metadata": {
    "tags": []
   },
   "outputs": [
    {
     "data": {
      "text/plain": [
       "<Axes: xlabel='age', ylabel='ovary_mass_mg'>"
      ]
     },
     "execution_count": 32,
     "metadata": {},
     "output_type": "execute_result"
    },
    {
     "data": {
      "text/plain": [
       "<Axes: xlabel='age', ylabel='ovary_mass_mg'>"
      ]
     },
     "execution_count": 32,
     "metadata": {},
     "output_type": "execute_result"
    },
    {
     "data": {
      "text/plain": [
       "Text(0.5, 0, 'Age (days)')"
      ]
     },
     "execution_count": 32,
     "metadata": {},
     "output_type": "execute_result"
    },
    {
     "data": {
      "text/plain": [
       "Text(0, 0.5, 'Ovary mass (mg)')"
      ]
     },
     "execution_count": 32,
     "metadata": {},
     "output_type": "execute_result"
    },
    {
     "data": {
      "text/plain": [
       "SignificanceResult(statistic=0.6823800822738617, pvalue=2.907717714305314e-23)"
      ]
     },
     "execution_count": 32,
     "metadata": {},
     "output_type": "execute_result"
    },
    {
     "data": {
      "image/png": "[encoded data removed]",
      "text/plain": [
       "<Figure size 640x480 with 1 Axes>"
      ]
     },
     "metadata": {},
     "output_type": "display_data"
    }
   ],
   "source": [
    "# scatterplot to show that age and ovary mass are correlated\n",
    "\n",
    "lw_om = (df_3_9.loc[df_3_9['female_morph'] == 'LW', ['ovary_mass_mg','age']])\n",
    "sw_om = (df_3_9.loc[df_3_9['female_morph'] == 'SW', ['ovary_mass_mg','age']])\n",
    "sns.set_style(\"white\")\n",
    "sns.regplot(x='age', y='ovary_mass_mg', data=lw_om, color = '#f77189')\n",
    "sns.regplot(x='age', y='ovary_mass_mg', data=sw_om, color = '#36ada4')\n",
    "# add descriptive texts\n",
    "sns.despine()\n",
    "plt.xlabel('Age (days)')\n",
    "plt.ylabel('Ovary mass (mg)')\n",
    "plt.savefig('suppfigure1c.png', dpi=300)\n",
    "\n",
    "stats.spearmanr(df_3_9['age'], df_3_9['ovary_mass_mg'])"
   ]
  },
  {
   "cell_type": "code",
   "execution_count": 33,
   "id": "5458a7d8-25b4-45a4-8036-9643c7a4981b",
   "metadata": {
    "tags": []
   },
   "outputs": [],
   "source": [
    "# make age-corrected ovary mass\n",
    "df_3_9['resids'] = residuals"
   ]
  },
  {
   "cell_type": "code",
   "execution_count": 34,
   "id": "b6552547-b12f-4046-a942-66a1f2c0c7b2",
   "metadata": {
    "tags": []
   },
   "outputs": [
    {
     "data": {
      "text/plain": [
       "<Axes: xlabel='age', ylabel='value'>"
      ]
     },
     "execution_count": 34,
     "metadata": {},
     "output_type": "execute_result"
    },
    {
     "data": {
      "text/plain": [
       "([<matplotlib.axis.YTick at 0x149054a50>,\n",
       "  <matplotlib.axis.YTick at 0x14904bd50>,\n",
       "  <matplotlib.axis.YTick at 0x14905f5d0>,\n",
       "  <matplotlib.axis.YTick at 0x1490eb210>],\n",
       " [Text(0, 0.25, '0.25'),\n",
       "  Text(0, 0.5, '0.50'),\n",
       "  Text(0, 0.75, '0.75'),\n",
       "  Text(0, 1.0, '1.00')])"
      ]
     },
     "execution_count": 34,
     "metadata": {},
     "output_type": "execute_result"
    },
    {
     "data": {
      "text/plain": [
       "Text(0.5, 0, 'Age (days)')"
      ]
     },
     "execution_count": 34,
     "metadata": {},
     "output_type": "execute_result"
    },
    {
     "data": {
      "text/plain": [
       "Text(0, 0.5, 'Proportion courted')"
      ]
     },
     "execution_count": 34,
     "metadata": {},
     "output_type": "execute_result"
    },
    {
     "data": {
      "text/plain": [
       "<matplotlib.legend.Legend at 0x1490242d0>"
      ]
     },
     "execution_count": 34,
     "metadata": {},
     "output_type": "execute_result"
    },
    {
     "data": {
      "text/html": [
       "<div>\n",
       "<style scoped>\n",
       "    .dataframe tbody tr th:only-of-type {\n",
       "        vertical-align: middle;\n",
       "    }\n",
       "\n",
       "    .dataframe tbody tr th {\n",
       "        vertical-align: top;\n",
       "    }\n",
       "\n",
       "    .dataframe thead th {\n",
       "        text-align: right;\n",
       "    }\n",
       "</style>\n",
       "<table border=\"1\" class=\"dataframe\">\n",
       "  <thead>\n",
       "    <tr style=\"text-align: right;\">\n",
       "      <th></th>\n",
       "      <th>age</th>\n",
       "      <th>variable</th>\n",
       "      <th>value</th>\n",
       "    </tr>\n",
       "  </thead>\n",
       "  <tbody>\n",
       "    <tr>\n",
       "      <th>0</th>\n",
       "      <td>1</td>\n",
       "      <td>perc_courted_LW</td>\n",
       "      <td>0.500000</td>\n",
       "    </tr>\n",
       "    <tr>\n",
       "      <th>1</th>\n",
       "      <td>3</td>\n",
       "      <td>perc_courted_LW</td>\n",
       "      <td>0.500000</td>\n",
       "    </tr>\n",
       "    <tr>\n",
       "      <th>2</th>\n",
       "      <td>5</td>\n",
       "      <td>perc_courted_LW</td>\n",
       "      <td>0.590909</td>\n",
       "    </tr>\n",
       "    <tr>\n",
       "      <th>3</th>\n",
       "      <td>7</td>\n",
       "      <td>perc_courted_LW</td>\n",
       "      <td>0.875000</td>\n",
       "    </tr>\n",
       "    <tr>\n",
       "      <th>4</th>\n",
       "      <td>9</td>\n",
       "      <td>perc_courted_LW</td>\n",
       "      <td>0.650000</td>\n",
       "    </tr>\n",
       "    <tr>\n",
       "      <th>5</th>\n",
       "      <td>1</td>\n",
       "      <td>perc_courted_SW</td>\n",
       "      <td>0.600000</td>\n",
       "    </tr>\n",
       "    <tr>\n",
       "      <th>6</th>\n",
       "      <td>3</td>\n",
       "      <td>perc_courted_SW</td>\n",
       "      <td>0.450000</td>\n",
       "    </tr>\n",
       "    <tr>\n",
       "      <th>7</th>\n",
       "      <td>5</td>\n",
       "      <td>perc_courted_SW</td>\n",
       "      <td>0.714286</td>\n",
       "    </tr>\n",
       "    <tr>\n",
       "      <th>8</th>\n",
       "      <td>7</td>\n",
       "      <td>perc_courted_SW</td>\n",
       "      <td>0.826087</td>\n",
       "    </tr>\n",
       "    <tr>\n",
       "      <th>9</th>\n",
       "      <td>9</td>\n",
       "      <td>perc_courted_SW</td>\n",
       "      <td>0.400000</td>\n",
       "    </tr>\n",
       "  </tbody>\n",
       "</table>\n",
       "</div>"
      ],
      "text/plain": [
       "   age         variable     value\n",
       "0    1  perc_courted_LW  0.500000\n",
       "1    3  perc_courted_LW  0.500000\n",
       "2    5  perc_courted_LW  0.590909\n",
       "3    7  perc_courted_LW  0.875000\n",
       "4    9  perc_courted_LW  0.650000\n",
       "5    1  perc_courted_SW  0.600000\n",
       "6    3  perc_courted_SW  0.450000\n",
       "7    5  perc_courted_SW  0.714286\n",
       "8    7  perc_courted_SW  0.826087\n",
       "9    9  perc_courted_SW  0.400000"
      ]
     },
     "execution_count": 34,
     "metadata": {},
     "output_type": "execute_result"
    },
    {
     "data": {
      "image/png": "[encoded data removed]",
      "text/plain": [
       "<Figure size 640x480 with 1 Axes>"
      ]
     },
     "metadata": {},
     "output_type": "display_data"
    }
   ],
   "source": [
    "# Make a Bar Chart: propotion of females courted per day per morph\n",
    "\n",
    "#Make 4 lists\n",
    "days = df_alldata['age'].unique().tolist() #days (1,3,5,7,9)\n",
    "list_lw = [] #number of lw females per day\n",
    "list_sw = [] #number of sw females per day\n",
    "list_courted_lw = [] #number of lw females courted per day\n",
    "list_courted_sw = [] #number of sw females courted per day\n",
    "for num in days:\n",
    "    list_lw.append(((df_alldata['age'] == num)&(df_alldata['female_morph'] == \"LW\")).sum())\n",
    "for num in days:\n",
    "    list_sw.append(((df_alldata['age'] == num)&(df_alldata['female_morph'] == \"SW\")).sum())\n",
    "for num in days:\n",
    "    list_courted_lw.append(\n",
    "        ((df_alldata['age'] == num)&(df_alldata['female_morph'] == \"LW\")&(df_alldata['court'] == 1)).sum())\n",
    "for num in days:\n",
    "    list_courted_sw.append(\n",
    "        ((df_alldata['age'] == num)&(df_alldata['female_morph'] == \"SW\")&(df_alldata['court'] == 1)).sum())   \n",
    "\n",
    "#Make a new dataframe with the 4 new lists\n",
    "df_percentage_courted = pd.DataFrame({\n",
    "    'age': days,\n",
    "    'LW': list_lw,\n",
    "    'SW': list_sw,\n",
    "    'LW_c': list_courted_lw,\n",
    "    'SW_c': list_courted_sw\n",
    "})\n",
    "#create new columns and calculate percent courted each day for each morph\n",
    "df_percentage_courted[\"perc_courted_LW\"] = (df_percentage_courted['LW_c']/df_percentage_courted['LW'])\n",
    "df_percentage_courted[\"perc_courted_SW\"] = (df_percentage_courted['SW_c']/df_percentage_courted['SW'])\n",
    "\n",
    "# Melt the dataframe to long format\n",
    "df_melted = pd.melt(df_percentage_courted, id_vars='age', value_vars=[\"perc_courted_LW\",\"perc_courted_SW\"])\n",
    "# Plot the bar graphs\n",
    "sns.barplot(x='age', y='value', hue='variable', data=df_melted, palette='husl')\n",
    "# add descriptive texts\n",
    "sns.despine()\n",
    "plt.yticks([0.25, 0.5, 0.75, 1.0])\n",
    "plt.xlabel('Age (days)')\n",
    "plt.ylabel('Proportion courted')\n",
    "plt.legend(loc = \"upper left\", labels=['LW', 'SW']);\n",
    "plt.savefig('suppfigure2a.png', dpi=300)\n",
    "df_melted"
   ]
  },
  {
   "cell_type": "code",
   "execution_count": 16,
   "id": "31c8c23a-79f2-4db3-91d8-df26742e3513",
   "metadata": {
    "tags": []
   },
   "outputs": [
    {
     "data": {
      "text/plain": [
       "<Axes: xlabel='age', ylabel='value'>"
      ]
     },
     "execution_count": 16,
     "metadata": {},
     "output_type": "execute_result"
    },
    {
     "data": {
      "text/plain": [
       "([<matplotlib.axis.YTick at 0x13a087890>,\n",
       "  <matplotlib.axis.YTick at 0x13a0dee90>,\n",
       "  <matplotlib.axis.YTick at 0x139f1efd0>,\n",
       "  <matplotlib.axis.YTick at 0x13a16e810>],\n",
       " [Text(0, 0.25, '0.25'),\n",
       "  Text(0, 0.5, '0.50'),\n",
       "  Text(0, 0.75, '0.75'),\n",
       "  Text(0, 1.0, '1.00')])"
      ]
     },
     "execution_count": 16,
     "metadata": {},
     "output_type": "execute_result"
    },
    {
     "data": {
      "text/plain": [
       "Text(0.5, 0, 'Age (days)')"
      ]
     },
     "execution_count": 16,
     "metadata": {},
     "output_type": "execute_result"
    },
    {
     "data": {
      "text/plain": [
       "Text(0, 0.5, 'Proportion mated')"
      ]
     },
     "execution_count": 16,
     "metadata": {},
     "output_type": "execute_result"
    },
    {
     "data": {
      "text/plain": [
       "<matplotlib.legend.Legend at 0x139fcd6d0>"
      ]
     },
     "execution_count": 16,
     "metadata": {},
     "output_type": "execute_result"
    },
    {
     "data": {
      "image/png": "[encoded data removed]",
      "text/plain": [
       "<Figure size 640x480 with 1 Axes>"
      ]
     },
     "metadata": {},
     "output_type": "display_data"
    }
   ],
   "source": [
    "# Make a Bar Chart: propotion of females that copulated per day per morph\n",
    "\n",
    "# Make 2 new lists, number of females that copulated per age for each morph \n",
    "\n",
    "#days = df_alldata['age'].unique().tolist() #already defined\n",
    "morphs = df_alldata['female_morph'].unique().tolist()\n",
    "\n",
    "combo_list = []\n",
    "for mor in morphs:\n",
    "    for num in days:\n",
    "        morList =((df_alldata['age'] == num)&(df_alldata['female_morph'] == mor)&(df_alldata['cop'] == 1)).sum()\n",
    "        combo_list.append(morList)\n",
    "        \n",
    "list_cop_lw = combo_list[:5]\n",
    "list_cop_sw = combo_list[5:]\n",
    "\n",
    "#Make a new df\n",
    "df_percentage_court_cop = pd.DataFrame({\n",
    "    'age': days,\n",
    "    'LW_c': list_courted_lw,\n",
    "    'SW_c': list_courted_sw,\n",
    "    'LW_cc': list_cop_lw,\n",
    "    'SW_cc': list_cop_sw\n",
    "})\n",
    "df_percentage_court_cop[\"perc_cc_LW\"] = (df_percentage_court_cop['LW_cc']/df_percentage_courted['LW_c'])\n",
    "df_percentage_court_cop[\"perc_cc_SW\"] = (df_percentage_court_cop['SW_cc']/df_percentage_courted['SW_c'])\n",
    "# Melt the dataframe to long format\n",
    "df_cop_melted = pd.melt(df_percentage_court_cop, id_vars='age', value_vars=[\"perc_cc_LW\",\"perc_cc_SW\"])\n",
    "sns.barplot(x='age', y='value', hue='variable', data=df_cop_melted, palette='husl')\n",
    "# add descriptive texts\n",
    "sns.despine()\n",
    "plt.yticks([0.25, 0.5, 0.75, 1.0])\n",
    "plt.xlabel('Age (days)')\n",
    "plt.ylabel('Proportion mated')\n",
    "plt.legend(loc = \"upper left\", labels=['LW', 'SW']);\n",
    "plt.savefig('figure1b.png', dpi=300)"
   ]
  },
  {
   "cell_type": "code",
   "execution_count": 18,
   "id": "927da564-a9ae-4bad-9b47-bea26ebfa8b8",
   "metadata": {
    "tags": []
   },
   "outputs": [
    {
     "name": "stderr",
     "output_type": "stream",
     "text": [
      "/var/folders/l2/9qxzr3354cdccgr3y1v4svrc0000gn/T/ipykernel_69218/283153050.py:6: FutureWarning: Downcasting behavior in `replace` is deprecated and will be removed in a future version. To retain the old behavior, explicitly call `result.infer_objects(copy=False)`. To opt-in to the future behavior, set `pd.set_option('future.no_silent_downcasting', True)`\n",
      "  df_logreg['morph_bin'] = df_logreg['female_morph'].replace({'LW': 0, 'SW': 1})\n"
     ]
    }
   ],
   "source": [
    "# binomial regression for copulation\n",
    "\n",
    "# make a new dataframe including only females there were courted\n",
    "df_logreg = (df_3_9.loc[df_3_9[\"court\"] == 1, (['female_morph','age',\"ovary_mass_mg\",'cop', 'pronotum_width','resids'])]).reset_index(drop = True)\n",
    "# Replace string values with boolean values\n",
    "df_logreg['morph_bin'] = df_logreg['female_morph'].replace({'LW': 0, 'SW': 1})\n",
    "df_logreg.drop('female_morph', axis=1, inplace=True)"
   ]
  },
  {
   "cell_type": "code",
   "execution_count": 44,
   "id": "18580983-ab3c-4fe7-b60c-8b7937e9e026",
   "metadata": {
    "tags": []
   },
   "outputs": [
    {
     "name": "stdout",
     "output_type": "stream",
     "text": [
      "                 Generalized Linear Model Regression Results                  \n",
      "==============================================================================\n",
      "Dep. Variable:                    cop   No. Observations:                  100\n",
      "Model:                            GLM   Df Residuals:                       98\n",
      "Model Family:                Binomial   Df Model:                            1\n",
      "Link Function:                  Logit   Scale:                          1.0000\n",
      "Method:                          IRLS   Log-Likelihood:                -63.437\n",
      "Date:                Wed, 09 Apr 2025   Deviance:                       126.87\n",
      "Time:                        22:39:53   Pearson chi2:                     100.\n",
      "No. Iterations:                     4   Pseudo R-squ. (CS):            0.06644\n",
      "Covariance Type:            nonrobust                                         \n",
      "==============================================================================\n",
      "                 coef    std err          z      P>|z|      [0.025      0.975]\n",
      "------------------------------------------------------------------------------\n",
      "Intercept     -2.1796      0.732     -2.979      0.003      -3.613      -0.746\n",
      "age            0.2764      0.110      2.524      0.012       0.062       0.491\n",
      "==============================================================================\n",
      "130.8742259863622\n"
     ]
    }
   ],
   "source": [
    "# binomial regression for copulation\n",
    "\n",
    "model_cop = glm('cop ~ age', data=df_logreg, family=sm.families.Binomial()).fit()\n",
    "print(model_cop.summary())\n",
    "print(model_cop.aic)\n",
    "fitted_values = model_cop.fittedvalues\n",
    "residuals = model_cop.resid_deviance"
   ]
  },
  {
   "cell_type": "code",
   "execution_count": 45,
   "id": "f9fd6253-726c-4a69-ad58-9f812c62da83",
   "metadata": {
    "tags": []
   },
   "outputs": [
    {
     "data": {
      "text/plain": [
       "<Axes: >"
      ]
     },
     "execution_count": 45,
     "metadata": {},
     "output_type": "execute_result"
    },
    {
     "data": {
      "text/plain": [
       "Text(0.5, 0, 'Fitted Values')"
      ]
     },
     "execution_count": 45,
     "metadata": {},
     "output_type": "execute_result"
    },
    {
     "data": {
      "text/plain": [
       "Text(0, 0.5, 'Residuals')"
      ]
     },
     "execution_count": 45,
     "metadata": {},
     "output_type": "execute_result"
    },
    {
     "data": {
      "text/plain": [
       "Text(0.5, 1.0, 'Residuals vs. Fitted Values')"
      ]
     },
     "execution_count": 45,
     "metadata": {},
     "output_type": "execute_result"
    },
    {
     "data": {
      "image/png": "[encoded data removed]",
      "text/plain": [
       "<Figure size 640x480 with 1 Axes>"
      ]
     },
     "metadata": {},
     "output_type": "display_data"
    }
   ],
   "source": [
    "sns.scatterplot(x=fitted_values, y=residuals)\n",
    "sns.despine()\n",
    "plt.xlabel(\"Fitted Values\")\n",
    "plt.ylabel(\"Residuals\")\n",
    "plt.title(\"Residuals vs. Fitted Values\")\n",
    "plt.savefig('suppfigure1d.png', dpi=300)"
   ]
  },
  {
   "cell_type": "code",
   "execution_count": 169,
   "id": "3b70de60-da28-4845-abb9-f2006bf8a3ec",
   "metadata": {
    "tags": []
   },
   "outputs": [
    {
     "data": {
      "image/png": "[encoded data removed]",
      "text/plain": [
       "<Figure size 640x480 with 1 Axes>"
      ]
     },
     "execution_count": 169,
     "metadata": {},
     "output_type": "execute_result"
    },
    {
     "data": {
      "text/plain": [
       "Text(0.5, 1.0, 'Q-Q Plot of Deviance Residuals')"
      ]
     },
     "execution_count": 169,
     "metadata": {},
     "output_type": "execute_result"
    },
    {
     "data": {
      "image/png": "[encoded data removed]",
      "text/plain": [
       "<Figure size 640x480 with 1 Axes>"
      ]
     },
     "metadata": {},
     "output_type": "display_data"
    }
   ],
   "source": [
    "# Create the Q-Q plot\n",
    "sm.qqplot(residuals, line='r') # 'r' specifies a regression line for comparison\n",
    "plt.title('Q-Q Plot of Deviance Residuals')\n",
    "sns.despine()\n",
    "plt.savefig('suppfigure1e.png', dpi=300)"
   ]
  },
  {
   "cell_type": "code",
   "execution_count": 23,
   "id": "ee009be1-e90b-4de8-9b85-29f4253ac9a9",
   "metadata": {
    "tags": []
   },
   "outputs": [],
   "source": [
    "# additional model testing\n",
    "\n",
    "model_1 = smf.glm('cop ~ age*resids', df_logreg, family=sm.families.Binomial()).fit()\n",
    "model_2 = smf.glm('cop ~ age*C(morph_bin)', df_logreg, family=sm.families.Binomial()).fit()\n",
    "model_3 = smf.glm('cop ~ age*pronotum_width', df_logreg, \n",
    "                  family=sm.families.Binomial()).fit()\n",
    "model_4 = smf.glm('cop ~ resids + age + C(morph_bin) + pronotum_width', df_logreg, \n",
    "                  family=sm.families.Binomial()).fit()\n",
    "#Table 2"
   ]
  },
  {
   "cell_type": "code",
   "execution_count": 24,
   "id": "3ed55e1e-5034-4494-a9d7-ce55afb22219",
   "metadata": {
    "tags": []
   },
   "outputs": [
    {
     "name": "stdout",
     "output_type": "stream",
     "text": [
      "                 Generalized Linear Model Regression Results                  \n",
      "==============================================================================\n",
      "Dep. Variable:                    cop   No. Observations:                  100\n",
      "Model:                            GLM   Df Residuals:                       96\n",
      "Model Family:                Binomial   Df Model:                            3\n",
      "Link Function:                  Logit   Scale:                          1.0000\n",
      "Method:                          IRLS   Log-Likelihood:                -63.126\n",
      "Date:                Wed, 09 Apr 2025   Deviance:                       126.25\n",
      "Time:                        22:11:09   Pearson chi2:                     101.\n",
      "No. Iterations:                     4   Pseudo R-squ. (CS):            0.07223\n",
      "Covariance Type:            nonrobust                                         \n",
      "==============================================================================\n",
      "                 coef    std err          z      P>|z|      [0.025      0.975]\n",
      "------------------------------------------------------------------------------\n",
      "Intercept     -2.2551      0.752     -3.000      0.003      -3.728      -0.782\n",
      "age            0.2868      0.112      2.559      0.010       0.067       0.506\n",
      "resids         0.0106      0.014      0.775      0.438      -0.016       0.038\n",
      "age:resids    -0.0014      0.002     -0.708      0.479      -0.005       0.003\n",
      "==============================================================================\n"
     ]
    },
    {
     "data": {
      "text/plain": [
       "134.25261222057037"
      ]
     },
     "execution_count": 24,
     "metadata": {},
     "output_type": "execute_result"
    },
    {
     "name": "stdout",
     "output_type": "stream",
     "text": [
      "                 Generalized Linear Model Regression Results                  \n",
      "==============================================================================\n",
      "Dep. Variable:                    cop   No. Observations:                  100\n",
      "Model:                            GLM   Df Residuals:                       96\n",
      "Model Family:                Binomial   Df Model:                            3\n",
      "Link Function:                  Logit   Scale:                          1.0000\n",
      "Method:                          IRLS   Log-Likelihood:                -62.296\n",
      "Date:                Wed, 09 Apr 2025   Deviance:                       124.59\n",
      "Time:                        22:11:09   Pearson chi2:                     102.\n",
      "No. Iterations:                     4   Pseudo R-squ. (CS):            0.08751\n",
      "Covariance Type:            nonrobust                                         \n",
      "=========================================================================================\n",
      "                            coef    std err          z      P>|z|      [0.025      0.975]\n",
      "-----------------------------------------------------------------------------------------\n",
      "Intercept                -3.2124      1.143     -2.811      0.005      -5.452      -0.972\n",
      "C(morph_bin)[T.1]         2.0422      1.507      1.355      0.175      -0.911       4.996\n",
      "age                       0.4399      0.165      2.663      0.008       0.116       0.764\n",
      "age:C(morph_bin)[T.1]    -0.3331      0.225     -1.478      0.139      -0.775       0.109\n",
      "=========================================================================================\n"
     ]
    },
    {
     "data": {
      "text/plain": [
       "132.5913852714567"
      ]
     },
     "execution_count": 24,
     "metadata": {},
     "output_type": "execute_result"
    },
    {
     "name": "stdout",
     "output_type": "stream",
     "text": [
      "                 Generalized Linear Model Regression Results                  \n",
      "==============================================================================\n",
      "Dep. Variable:                    cop   No. Observations:                  100\n",
      "Model:                            GLM   Df Residuals:                       96\n",
      "Model Family:                Binomial   Df Model:                            3\n",
      "Link Function:                  Logit   Scale:                          1.0000\n",
      "Method:                          IRLS   Log-Likelihood:                -62.273\n",
      "Date:                Wed, 09 Apr 2025   Deviance:                       124.55\n",
      "Time:                        22:11:09   Pearson chi2:                     99.1\n",
      "No. Iterations:                     5   Pseudo R-squ. (CS):            0.08793\n",
      "Covariance Type:            nonrobust                                         \n",
      "======================================================================================\n",
      "                         coef    std err          z      P>|z|      [0.025      0.975]\n",
      "--------------------------------------------------------------------------------------\n",
      "Intercept            -16.2215     10.218     -1.588      0.112     -36.248       3.805\n",
      "age                    2.5801      1.618      1.595      0.111      -0.590       5.751\n",
      "pronotum_width         0.0075      0.005      1.391      0.164      -0.003       0.018\n",
      "age:pronotum_width    -0.0012      0.001     -1.437      0.151      -0.003       0.000\n",
      "======================================================================================\n"
     ]
    },
    {
     "data": {
      "text/plain": [
       "132.54594712933599"
      ]
     },
     "execution_count": 24,
     "metadata": {},
     "output_type": "execute_result"
    },
    {
     "name": "stdout",
     "output_type": "stream",
     "text": [
      "                 Generalized Linear Model Regression Results                  \n",
      "==============================================================================\n",
      "Dep. Variable:                    cop   No. Observations:                  100\n",
      "Model:                            GLM   Df Residuals:                       95\n",
      "Model Family:                Binomial   Df Model:                            4\n",
      "Link Function:                  Logit   Scale:                          1.0000\n",
      "Method:                          IRLS   Log-Likelihood:                -63.352\n",
      "Date:                Wed, 09 Apr 2025   Deviance:                       126.70\n",
      "Time:                        22:11:09   Pearson chi2:                     100.\n",
      "No. Iterations:                     4   Pseudo R-squ. (CS):            0.06803\n",
      "Covariance Type:            nonrobust                                         \n",
      "=====================================================================================\n",
      "                        coef    std err          z      P>|z|      [0.025      0.975]\n",
      "-------------------------------------------------------------------------------------\n",
      "Intercept            -2.5249      2.737     -0.923      0.356      -7.889       2.839\n",
      "C(morph_bin)[T.1]    -0.0738      0.427     -0.173      0.863      -0.911       0.763\n",
      "resids                0.0012      0.004      0.321      0.748      -0.006       0.009\n",
      "age                   0.2767      0.110      2.516      0.012       0.061       0.492\n",
      "pronotum_width        0.0002      0.001      0.147      0.883      -0.003       0.003\n",
      "=====================================================================================\n"
     ]
    },
    {
     "data": {
      "text/plain": [
       "136.70390174715297"
      ]
     },
     "execution_count": 24,
     "metadata": {},
     "output_type": "execute_result"
    }
   ],
   "source": [
    "print(model_1.summary())\n",
    "model_1.aic\n",
    "print(model_2.summary())\n",
    "model_2.aic\n",
    "print(model_3.summary())\n",
    "model_3.aic\n",
    "print(model_4.summary())\n",
    "model_4.aic"
   ]
  },
  {
   "cell_type": "code",
   "execution_count": 25,
   "id": "60d6181d-2329-4164-9ff1-a3ea38e1c9bf",
   "metadata": {
    "tags": []
   },
   "outputs": [
    {
     "data": {
      "text/plain": [
       "<Axes: xlabel='age', ylabel='cop'>"
      ]
     },
     "execution_count": 25,
     "metadata": {},
     "output_type": "execute_result"
    },
    {
     "data": {
      "text/plain": [
       "([<matplotlib.axis.XTick at 0x13a1c5c90>,\n",
       "  <matplotlib.axis.XTick at 0x13a0f2110>,\n",
       "  <matplotlib.axis.XTick at 0x13a0abf50>,\n",
       "  <matplotlib.axis.XTick at 0x139fc5b10>],\n",
       " [Text(3, 0, '3'), Text(5, 0, '5'), Text(7, 0, '7'), Text(9, 0, '9')])"
      ]
     },
     "execution_count": 25,
     "metadata": {},
     "output_type": "execute_result"
    },
    {
     "data": {
      "text/plain": [
       "Text(0.5, 0, 'Age (day)')"
      ]
     },
     "execution_count": 25,
     "metadata": {},
     "output_type": "execute_result"
    },
    {
     "data": {
      "text/plain": [
       "Text(0, 0.5, 'Probability of copulation')"
      ]
     },
     "execution_count": 25,
     "metadata": {},
     "output_type": "execute_result"
    },
    {
     "data": {
      "image/png": "[encoded data removed]",
      "text/plain": [
       "<Figure size 640x480 with 1 Axes>"
      ]
     },
     "metadata": {},
     "output_type": "display_data"
    }
   ],
   "source": [
    "# figure 1c\n",
    "\n",
    "sns.regplot(x='age', y='cop', data=df_logreg, x_jitter = 0.65, logistic=True)\n",
    "sns.despine()\n",
    "plt.xticks([3, 5, 7, 9])\n",
    "plt.xlabel('Age (day)')\n",
    "plt.ylabel('Probability of copulation')\n",
    "plt.savefig('figure1c.png', dpi=300)"
   ]
  },
  {
   "cell_type": "code",
   "execution_count": 27,
   "id": "0746e2eb-23a1-4592-b739-82ea64a92e08",
   "metadata": {
    "tags": []
   },
   "outputs": [
    {
     "name": "stderr",
     "output_type": "stream",
     "text": [
      "/var/folders/l2/9qxzr3354cdccgr3y1v4svrc0000gn/T/ipykernel_69218/3565923721.py:4: FutureWarning: Downcasting behavior in `replace` is deprecated and will be removed in a future version. To retain the old behavior, explicitly call `result.infer_objects(copy=False)`. To opt-in to the future behavior, set `pd.set_option('future.no_silent_downcasting', True)`\n",
      "  df_3_9['morph_bin'] = df_3_9['female_morph'].replace({'LW': 0, 'SW': 1})\n"
     ]
    }
   ],
   "source": [
    "# binomial regression for courtship\n",
    "\n",
    "# Replace string values with boolean values\n",
    "df_3_9['morph_bin'] = df_3_9['female_morph'].replace({'LW': 0, 'SW': 1})"
   ]
  },
  {
   "cell_type": "code",
   "execution_count": 31,
   "id": "049950bb-16ee-4b9c-b0c8-34d9b93d0a5d",
   "metadata": {
    "tags": []
   },
   "outputs": [
    {
     "name": "stdout",
     "output_type": "stream",
     "text": [
      "                 Generalized Linear Model Regression Results                  \n",
      "==============================================================================\n",
      "Dep. Variable:                  court   No. Observations:                  160\n",
      "Model:                            GLM   Df Residuals:                      155\n",
      "Model Family:                Binomial   Df Model:                            4\n",
      "Link Function:                  Logit   Scale:                          1.0000\n",
      "Method:                          IRLS   Log-Likelihood:                -104.64\n",
      "Date:                Wed, 09 Apr 2025   Deviance:                       209.28\n",
      "Time:                        22:16:21   Pearson chi2:                     160.\n",
      "No. Iterations:                     4   Pseudo R-squ. (CS):            0.01504\n",
      "Covariance Type:            nonrobust                                         \n",
      "==================================================================================\n",
      "                     coef    std err          z      P>|z|      [0.025      0.975]\n",
      "----------------------------------------------------------------------------------\n",
      "Intercept          2.4198      2.076      1.166      0.244      -1.648       6.488\n",
      "age                0.0635      0.075      0.851      0.395      -0.083       0.210\n",
      "morph_bin         -0.1709      0.330     -0.518      0.605      -0.818       0.476\n",
      "resids             0.0008      0.003      0.281      0.778      -0.005       0.006\n",
      "pronotum_width    -0.0012      0.001     -1.114      0.265      -0.003       0.001\n",
      "==================================================================================\n",
      "219.27549706602207\n"
     ]
    },
    {
     "data": {
      "text/plain": [
       "<Axes: >"
      ]
     },
     "execution_count": 31,
     "metadata": {},
     "output_type": "execute_result"
    },
    {
     "data": {
      "text/plain": [
       "Text(0.5, 0, 'Fitted Values')"
      ]
     },
     "execution_count": 31,
     "metadata": {},
     "output_type": "execute_result"
    },
    {
     "data": {
      "text/plain": [
       "Text(0, 0.5, 'Residuals')"
      ]
     },
     "execution_count": 31,
     "metadata": {},
     "output_type": "execute_result"
    },
    {
     "data": {
      "text/plain": [
       "Text(0.5, 1.0, 'Residuals vs. Fitted Values')"
      ]
     },
     "execution_count": 31,
     "metadata": {},
     "output_type": "execute_result"
    },
    {
     "data": {
      "image/png": "[encoded data removed]",
      "text/plain": [
       "<Figure size 640x480 with 1 Axes>"
      ]
     },
     "metadata": {},
     "output_type": "display_data"
    }
   ],
   "source": [
    "# binomial regression for courtship\n",
    "\n",
    "model_court = glm('court ~ age+ morph_bin + resids + pronotum_width', data=df_3_9, family=sm.families.Binomial()).fit()\n",
    "print(model_court.summary())\n",
    "print(model_court.aic)\n",
    "fitted_values = model_court.fittedvalues\n",
    "residuals = model_court.resid_deviance\n",
    "sns.scatterplot(x=fitted_values, y=residuals)\n",
    "sns.despine()\n",
    "plt.xlabel(\"Fitted Values\")\n",
    "plt.ylabel(\"Residuals\")\n",
    "plt.title(\"Residuals vs. Fitted Values\")\n",
    "plt.show()"
   ]
  },
  {
   "cell_type": "code",
   "execution_count": 38,
   "id": "e45082ed-1c65-4cc9-8a8e-c31a561f2c60",
   "metadata": {
    "tags": []
   },
   "outputs": [],
   "source": [
    "# additional model testing\n",
    "\n",
    "model_1 = smf.glm('court ~ age*resids', df_3_9, family=sm.families.Binomial()).fit()\n",
    "model_2 = smf.glm('court ~ age*C(morph_bin)', df_3_9, family=sm.families.Binomial()).fit()\n",
    "model_3 = smf.glm('court ~ age*pronotum_width', df_3_9, \n",
    "                  family=sm.families.Binomial()).fit()\n",
    "model_4 = smf.glm('court ~ age*resids + C(morph_bin) + pronotum_width', df_3_9, \n",
    "                  family=sm.families.Binomial()).fit()\n",
    "model_5 = smf.glm('court ~ age', df_3_9, \n",
    "                  family=sm.families.Binomial()).fit()\n",
    "#Table 2"
   ]
  },
  {
   "cell_type": "code",
   "execution_count": 39,
   "id": "97cecfdd-8aad-47a3-ac99-f404e5b84ae9",
   "metadata": {
    "tags": []
   },
   "outputs": [
    {
     "name": "stdout",
     "output_type": "stream",
     "text": [
      "                 Generalized Linear Model Regression Results                  \n",
      "==============================================================================\n",
      "Dep. Variable:                  court   No. Observations:                  160\n",
      "Model:                            GLM   Df Residuals:                      156\n",
      "Model Family:                Binomial   Df Model:                            3\n",
      "Link Function:                  Logit   Scale:                          1.0000\n",
      "Method:                          IRLS   Log-Likelihood:                -105.35\n",
      "Date:                Wed, 09 Apr 2025   Deviance:                       210.71\n",
      "Time:                        22:21:57   Pearson chi2:                     160.\n",
      "No. Iterations:                     4   Pseudo R-squ. (CS):           0.006175\n",
      "Covariance Type:            nonrobust                                         \n",
      "==============================================================================\n",
      "                 coef    std err          z      P>|z|      [0.025      0.975]\n",
      "------------------------------------------------------------------------------\n",
      "Intercept      0.0939      0.469      0.200      0.841      -0.826       1.014\n",
      "age            0.0699      0.074      0.942      0.346      -0.076       0.215\n",
      "resids         0.0027      0.008      0.321      0.748      -0.014       0.019\n",
      "age:resids    -0.0004      0.001     -0.292      0.770      -0.003       0.002\n",
      "==============================================================================\n"
     ]
    },
    {
     "data": {
      "text/plain": [
       "218.70913428039086"
      ]
     },
     "execution_count": 39,
     "metadata": {},
     "output_type": "execute_result"
    },
    {
     "name": "stdout",
     "output_type": "stream",
     "text": [
      "                 Generalized Linear Model Regression Results                  \n",
      "==============================================================================\n",
      "Dep. Variable:                  court   No. Observations:                  160\n",
      "Model:                            GLM   Df Residuals:                      156\n",
      "Model Family:                Binomial   Df Model:                            3\n",
      "Link Function:                  Logit   Scale:                          1.0000\n",
      "Method:                          IRLS   Log-Likelihood:                -104.75\n",
      "Date:                Wed, 09 Apr 2025   Deviance:                       209.50\n",
      "Time:                        22:21:57   Pearson chi2:                     160.\n",
      "No. Iterations:                     4   Pseudo R-squ. (CS):            0.01367\n",
      "Covariance Type:            nonrobust                                         \n",
      "=========================================================================================\n",
      "                            coef    std err          z      P>|z|      [0.025      0.975]\n",
      "-----------------------------------------------------------------------------------------\n",
      "Intercept                -0.3008      0.682     -0.441      0.659      -1.637       1.035\n",
      "C(morph_bin)[T.1]         0.7495      0.944      0.794      0.427      -1.101       2.600\n",
      "age                       0.1523      0.110      1.382      0.167      -0.064       0.368\n",
      "age:C(morph_bin)[T.1]    -0.1545      0.150     -1.029      0.303      -0.449       0.140\n",
      "=========================================================================================\n"
     ]
    },
    {
     "data": {
      "text/plain": [
       "217.49763706516214"
      ]
     },
     "execution_count": 39,
     "metadata": {},
     "output_type": "execute_result"
    },
    {
     "name": "stdout",
     "output_type": "stream",
     "text": [
      "                 Generalized Linear Model Regression Results                  \n",
      "==============================================================================\n",
      "Dep. Variable:                  court   No. Observations:                  160\n",
      "Model:                            GLM   Df Residuals:                      156\n",
      "Model Family:                Binomial   Df Model:                            3\n",
      "Link Function:                  Logit   Scale:                          1.0000\n",
      "Method:                          IRLS   Log-Likelihood:                -104.81\n",
      "Date:                Wed, 09 Apr 2025   Deviance:                       209.62\n",
      "Time:                        22:21:57   Pearson chi2:                     160.\n",
      "No. Iterations:                     4   Pseudo R-squ. (CS):            0.01292\n",
      "Covariance Type:            nonrobust                                         \n",
      "======================================================================================\n",
      "                         coef    std err          z      P>|z|      [0.025      0.975]\n",
      "--------------------------------------------------------------------------------------\n",
      "Intercept              2.4288      5.332      0.456      0.649      -8.022      12.879\n",
      "age                    0.0304      0.913      0.033      0.973      -1.760       1.821\n",
      "pronotum_width        -0.0013      0.003     -0.438      0.661      -0.007       0.004\n",
      "age:pronotum_width  1.773e-05      0.000      0.036      0.971      -0.001       0.001\n",
      "======================================================================================\n"
     ]
    },
    {
     "data": {
      "text/plain": [
       "217.61907186273214"
      ]
     },
     "execution_count": 39,
     "metadata": {},
     "output_type": "execute_result"
    },
    {
     "name": "stdout",
     "output_type": "stream",
     "text": [
      "                 Generalized Linear Model Regression Results                  \n",
      "==============================================================================\n",
      "Dep. Variable:                  court   No. Observations:                  160\n",
      "Model:                            GLM   Df Residuals:                      154\n",
      "Model Family:                Binomial   Df Model:                            5\n",
      "Link Function:                  Logit   Scale:                          1.0000\n",
      "Method:                          IRLS   Log-Likelihood:                -104.57\n",
      "Date:                Wed, 09 Apr 2025   Deviance:                       209.14\n",
      "Time:                        22:21:57   Pearson chi2:                     160.\n",
      "No. Iterations:                     4   Pseudo R-squ. (CS):            0.01585\n",
      "Covariance Type:            nonrobust                                         \n",
      "=====================================================================================\n",
      "                        coef    std err          z      P>|z|      [0.025      0.975]\n",
      "-------------------------------------------------------------------------------------\n",
      "Intercept             2.4583      2.075      1.185      0.236      -1.609       6.525\n",
      "C(morph_bin)[T.1]    -0.1711      0.330     -0.518      0.604      -0.818       0.476\n",
      "age                   0.0637      0.075      0.854      0.393      -0.082       0.210\n",
      "resids                0.0037      0.009      0.433      0.665      -0.013       0.020\n",
      "age:resids           -0.0005      0.001     -0.362      0.717      -0.003       0.002\n",
      "pronotum_width       -0.0012      0.001     -1.134      0.257      -0.003       0.001\n",
      "=====================================================================================\n"
     ]
    },
    {
     "data": {
      "text/plain": [
       "221.14405121040767"
      ]
     },
     "execution_count": 39,
     "metadata": {},
     "output_type": "execute_result"
    },
    {
     "name": "stdout",
     "output_type": "stream",
     "text": [
      "                 Generalized Linear Model Regression Results                  \n",
      "==============================================================================\n",
      "Dep. Variable:                  court   No. Observations:                  160\n",
      "Model:                            GLM   Df Residuals:                      158\n",
      "Model Family:                Binomial   Df Model:                            1\n",
      "Link Function:                  Logit   Scale:                          1.0000\n",
      "Method:                          IRLS   Log-Likelihood:                -105.41\n",
      "Date:                Wed, 09 Apr 2025   Deviance:                       210.81\n",
      "Time:                        22:21:57   Pearson chi2:                     160.\n",
      "No. Iterations:                     4   Pseudo R-squ. (CS):           0.005524\n",
      "Covariance Type:            nonrobust                                         \n",
      "==============================================================================\n",
      "                 coef    std err          z      P>|z|      [0.025      0.975]\n",
      "------------------------------------------------------------------------------\n",
      "Intercept      0.0951      0.469      0.203      0.839      -0.824       1.015\n",
      "age            0.0696      0.074      0.939      0.348      -0.076       0.215\n",
      "==============================================================================\n"
     ]
    },
    {
     "data": {
      "text/plain": [
       "214.81386902753863"
      ]
     },
     "execution_count": 39,
     "metadata": {},
     "output_type": "execute_result"
    }
   ],
   "source": [
    "print(model_1.summary())\n",
    "model_1.aic\n",
    "print(model_2.summary())\n",
    "model_2.aic\n",
    "print(model_3.summary())\n",
    "model_3.aic\n",
    "print(model_4.summary())\n",
    "model_4.aic\n",
    "print(model_5.summary())\n",
    "model_5.aic"
   ]
  },
  {
   "cell_type": "code",
   "execution_count": 40,
   "id": "41a15b4d-9f49-4abf-8aad-725f1be85d68",
   "metadata": {
    "tags": []
   },
   "outputs": [
    {
     "data": {
      "text/plain": [
       "<Axes: xlabel='age', ylabel='court'>"
      ]
     },
     "execution_count": 40,
     "metadata": {},
     "output_type": "execute_result"
    },
    {
     "data": {
      "text/plain": [
       "([<matplotlib.axis.XTick at 0x13c29d790>,\n",
       "  <matplotlib.axis.XTick at 0x13c2c8e90>,\n",
       "  <matplotlib.axis.XTick at 0x13a065b90>,\n",
       "  <matplotlib.axis.XTick at 0x13a356910>],\n",
       " [Text(3, 0, '3'), Text(5, 0, '5'), Text(7, 0, '7'), Text(9, 0, '9')])"
      ]
     },
     "execution_count": 40,
     "metadata": {},
     "output_type": "execute_result"
    },
    {
     "data": {
      "text/plain": [
       "Text(0.5, 0, 'Age (day)')"
      ]
     },
     "execution_count": 40,
     "metadata": {},
     "output_type": "execute_result"
    },
    {
     "data": {
      "text/plain": [
       "Text(0, 0.5, 'Probability of copulation')"
      ]
     },
     "execution_count": 40,
     "metadata": {},
     "output_type": "execute_result"
    },
    {
     "data": {
      "image/png": "[encoded data removed]",
      "text/plain": [
       "<Figure size 640x480 with 1 Axes>"
      ]
     },
     "metadata": {},
     "output_type": "display_data"
    }
   ],
   "source": [
    "# figure 1c\n",
    "\n",
    "sns.regplot(x='age', y='court', data=df_3_9, x_jitter = 0.65, logistic=True)\n",
    "sns.despine()\n",
    "plt.xticks([3, 5, 7, 9])\n",
    "plt.xlabel('Age (day)')\n",
    "plt.ylabel('Probability of copulation')\n",
    "plt.savefig('suppfigure2b.png', dpi=300)"
   ]
  },
  {
   "cell_type": "code",
   "execution_count": null,
   "id": "5400fb82-59c6-43eb-a4d7-8206e57c75d4",
   "metadata": {},
   "outputs": [],
   "source": []
  }
 ],
 "metadata": {
  "kernelspec": {
   "display_name": "Python 3 (ipykernel)",
   "language": "python",
   "name": "python3"
  },
  "language_info": {
   "codemirror_mode": {
    "name": "ipython",
    "version": 3
   },
   "file_extension": ".py",
   "mimetype": "text/x-python",
   "name": "python",
   "nbconvert_exporter": "python",
   "pygments_lexer": "ipython3",
   "version": "3.11.5"
  }
 },
 "nbformat": 4,
 "nbformat_minor": 5
}
